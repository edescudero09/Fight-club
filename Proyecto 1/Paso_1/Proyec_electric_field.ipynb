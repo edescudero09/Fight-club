{
 "cells": [
  {
   "cell_type": "markdown",
   "id": "c8ffb3eb",
   "metadata": {},
   "source": [
    "Crear imagen de los dipolos electricos y ver lineas de campo de las mismas"
   ]
  },
  {
   "cell_type": "markdown",
   "id": "4c7e5a67",
   "metadata": {},
   "source": [
    "Lo primero que vamos a hacer es enteder las herramientas que vamos a ocupar para crear este codigo:\n",
    "lo primero son los paquete estos paquetes son modulos o herramientas que podemos usar, estas herramientas nos sirven para resolver diferentes cosas pueden ser herramientas para animar, para calculos matematicos, para poder exportar archivos e infinidad de cosas mas.\n",
    "\n",
    "Ahora los paquetes que vamos a ocupar son Numpy y Matplotlib, estos paquetes nos sirven para poder usar funciones matematicas y para poder graficar datos\n",
    "\n",
    "las funciones que vamos a ocupar de cada una son\n",
    "\n",
    "## **Numpy**\n",
    "\n",
    "### array:\n",
    "    - es una funcion que se encarga de poner transformar una lista en un arreglo de numpy el cual se comporta como una matriz y asi pode organizar y aplicar operaciones conjuntas. "
   ]
  },
  {
   "cell_type": "code",
   "execution_count": 13,
   "id": "9415bdde",
   "metadata": {},
   "outputs": [
    {
     "name": "stdout",
     "output_type": "stream",
     "text": [
      "arreglo 3x2\n",
      "[[0 3 4 5]\n",
      " [1 2 3 4]]\n",
      "arreglo 2x1\n",
      "[5 3]\n",
      "Operaciones de matrices axb\n",
      "[ 3 21 29 37]\n"
     ]
    }
   ],
   "source": [
    "import numpy as np\n",
    "\n",
    "a=np.array([[0,3,4,5],[1,2,3,4]])\n",
    "print(\"arreglo 3x2\")\n",
    "print(a)\n",
    "b=np.array([5,3])\n",
    "print(\"arreglo 2x1\")\n",
    "print(b)\n",
    "print(\"Operaciones de matrices axb\")\n",
    "print(b@a)"
   ]
  },
  {
   "cell_type": "markdown",
   "id": "0eb8aae6",
   "metadata": {},
   "source": [
    "### Linspace\n",
    "\n",
    "- nos permite crear una cantidad determinada de numeros entre una rango que lo demarcamos."
   ]
  },
  {
   "cell_type": "code",
   "execution_count": 34,
   "id": "36b73085",
   "metadata": {},
   "outputs": [
    {
     "name": "stdout",
     "output_type": "stream",
     "text": [
      "10 objetos entre 1 y 2 igualmente espaciados\n",
      "[1.         1.11111111 1.22222222 1.33333333 1.44444444 1.55555556\n",
      " 1.66666667 1.77777778 1.88888889 2.        ]\n",
      "_____________\n",
      "por defecto la cantidad de numeros que linspace crea es 50\n",
      "[ 1.  2.  3.  4.  5.  6.  7.  8.  9. 10. 11. 12. 13. 14. 15. 16. 17. 18.\n",
      " 19. 20. 21. 22. 23. 24. 25. 26. 27. 28. 29. 30. 31. 32. 33. 34. 35. 36.\n",
      " 37. 38. 39. 40. 41. 42. 43. 44. 45. 46. 47. 48. 49. 50.]\n"
     ]
    }
   ],
   "source": [
    "a=np.linspace(1,2,10)\n",
    "print(\"10 objetos entre 1 y 2 igualmente espaciados\")\n",
    "print(a)\n",
    "print(\"_____________\")\n",
    "print(\"por defecto la cantidad de numeros que linspace crea es 50\")\n",
    "b=np.linspace(1,50)\n",
    "print(b)"
   ]
  },
  {
   "cell_type": "markdown",
   "id": "839c867b",
   "metadata": {},
   "source": [
    "## Meshgrid\n",
    "\n",
    "- es una manera de crear un par de datos que se referencien entre si, de manera que cada uno de los puntos que se encuentren en x se dibujen o relacionen con los puntos en y. (me falta mas información porque no entiendo tanto como funciona)"
   ]
  },
  {
   "cell_type": "code",
   "execution_count": 41,
   "id": "a3df3516",
   "metadata": {},
   "outputs": [
    {
     "name": "stdout",
     "output_type": "stream",
     "text": [
      "[0. 1.] [0.  0.5 1. ]\n",
      "[[0. 1.]\n",
      " [0. 1.]\n",
      " [0. 1.]]\n",
      "[[0.  0. ]\n",
      " [0.5 0.5]\n",
      " [1.  1. ]]\n"
     ]
    },
    {
     "data": {
      "image/png": "[encoded data removed]",
      "text/plain": [
       "<Figure size 640x480 with 1 Axes>"
      ]
     },
     "metadata": {},
     "output_type": "display_data"
    }
   ],
   "source": [
    "nx, ny = (2, 3)\n",
    "x = np.linspace(0, 1, nx)\n",
    "y = np.linspace(0, 1, ny)\n",
    "print(x,y)\n",
    "xv, yv = np.meshgrid(x, y)\n",
    "print(xv)\n",
    "print(yv)\n",
    "import matplotlib.pyplot as plt\n",
    "plt.plot(xv, yv, marker='o', color='k', linestyle='none')\n",
    "plt.show()"
   ]
  },
  {
   "cell_type": "markdown",
   "id": "9fa0b056",
   "metadata": {},
   "source": [
    "# Escribiendo el codigo\n",
    "\n",
    "A continuacion tenemos un codigo de ChatGTP que nos permite tener un primer paso de como empezar este trabajo, desafortunadamente o afortunadamente el codigo no funciona para observar las lineas del campo, pero estudiemoslo para ver porque no lo hace, que es lo que hace y si se puede arreglar."
   ]
  },
  {
   "cell_type": "code",
   "execution_count": 1,
   "id": "1f49f5ad",
   "metadata": {},
   "outputs": [
    {
     "ename": "ValueError",
     "evalue": "The truth value of an array with more than one element is ambiguous. Use a.any() or a.all()",
     "output_type": "error",
     "traceback": [
      "\u001b[0;31m---------------------------------------------------------------------------\u001b[0m",
      "\u001b[0;31mValueError\u001b[0m                                Traceback (most recent call last)",
      "Cell \u001b[0;32mIn[1], line 31\u001b[0m\n\u001b[1;32m     28\u001b[0m X, Y \u001b[38;5;241m=\u001b[39m np\u001b[38;5;241m.\u001b[39mmeshgrid(x_values, y_values)\n\u001b[1;32m     30\u001b[0m \u001b[38;5;66;03m# Calcular el campo eléctrico en cada punto de la malla\u001b[39;00m\n\u001b[0;32m---> 31\u001b[0m Ex, Ey \u001b[38;5;241m=\u001b[39m electric_field_of_dipole(\u001b[38;5;241m1\u001b[39m, \u001b[38;5;241m1\u001b[39m, X, Y)\n\u001b[1;32m     33\u001b[0m \u001b[38;5;66;03m# Graficar las líneas de campo eléctrico\u001b[39;00m\n\u001b[1;32m     34\u001b[0m plt\u001b[38;5;241m.\u001b[39mstreamplot(X, Y, Ex, Ey, density\u001b[38;5;241m=\u001b[39m\u001b[38;5;241m2\u001b[39m, linewidth\u001b[38;5;241m=\u001b[39m\u001b[38;5;241m1\u001b[39m, arrowsize\u001b[38;5;241m=\u001b[39m\u001b[38;5;241m1.5\u001b[39m)\n",
      "Cell \u001b[0;32mIn[1], line 20\u001b[0m, in \u001b[0;36melectric_field_of_dipole\u001b[0;34m(q, d, x, y)\u001b[0m\n\u001b[1;32m     18\u001b[0m r_negative \u001b[38;5;241m=\u001b[39m \u001b[38;5;241m-\u001b[39mr_positive\n\u001b[1;32m     19\u001b[0m \u001b[38;5;66;03m# Campo eléctrico debido a cada carga\u001b[39;00m\n\u001b[0;32m---> 20\u001b[0m E_positive \u001b[38;5;241m=\u001b[39m electric_field_due_to_point_charge(q, r_positive, x, y)\n\u001b[1;32m     21\u001b[0m E_negative \u001b[38;5;241m=\u001b[39m electric_field_due_to_point_charge(\u001b[38;5;241m-\u001b[39mq, r_negative, x, y)\n\u001b[1;32m     22\u001b[0m \u001b[38;5;66;03m# Campo eléctrico total\u001b[39;00m\n",
      "Cell \u001b[0;32mIn[1], line 9\u001b[0m, in \u001b[0;36melectric_field_due_to_point_charge\u001b[0;34m(q, r0, x, y)\u001b[0m\n\u001b[1;32m      7\u001b[0m r \u001b[38;5;241m=\u001b[39m np\u001b[38;5;241m.\u001b[39msqrt((x \u001b[38;5;241m-\u001b[39m r0[\u001b[38;5;241m0\u001b[39m])\u001b[38;5;241m*\u001b[39m\u001b[38;5;241m*\u001b[39m\u001b[38;5;241m2\u001b[39m \u001b[38;5;241m+\u001b[39m (y \u001b[38;5;241m-\u001b[39m r0[\u001b[38;5;241m1\u001b[39m])\u001b[38;5;241m*\u001b[39m\u001b[38;5;241m*\u001b[39m\u001b[38;5;241m2\u001b[39m)\n\u001b[1;32m      8\u001b[0m \u001b[38;5;66;03m# Evitar la singularidad en r=0\u001b[39;00m\n\u001b[0;32m----> 9\u001b[0m \u001b[38;5;28;01mif\u001b[39;00m r \u001b[38;5;241m<\u001b[39m \u001b[38;5;241m1e-10\u001b[39m:\n\u001b[1;32m     10\u001b[0m     \u001b[38;5;28;01mreturn\u001b[39;00m np\u001b[38;5;241m.\u001b[39marray([\u001b[38;5;241m0.0\u001b[39m, \u001b[38;5;241m0.0\u001b[39m])\n\u001b[1;32m     11\u001b[0m \u001b[38;5;28;01melse\u001b[39;00m:\n",
      "\u001b[0;31mValueError\u001b[0m: The truth value of an array with more than one element is ambiguous. Use a.any() or a.all()"
     ]
    }
   ],
   "source": [
    "import numpy as np\n",
    "import matplotlib.pyplot as plt\n",
    "\n",
    "def electric_field_due_to_point_charge(q, r0, x, y):\n",
    "    \"\"\"Calcula el campo eléctrico en un punto (x, y) debido a una carga puntual.\"\"\"\n",
    "    k = 8.9875517923 * 10**9  # Constante de Coulomb en Nm^2/C^2\n",
    "    r = np.sqrt((x - r0[0])**2 + (y - r0[1])**2)\n",
    "    # Evitar la singularidad en r=0\n",
    "    if r < 1e-10:\n",
    "        return np.array([0.0, 0.0])\n",
    "    else:\n",
    "        return k * q * (np.array([x, y]) - np.array(r0)) / r**3\n",
    "\n",
    "def electric_field_of_dipole(q, d, x, y):\n",
    "    \"\"\"Calcula el campo eléctrico en un punto (x, y) debido a un dipolo eléctrico.\"\"\"\n",
    "    # Posición de las cargas\n",
    "    r_positive = np.array([d/2, 0])\n",
    "    r_negative = -r_positive\n",
    "    # Campo eléctrico debido a cada carga\n",
    "    E_positive = electric_field_due_to_point_charge(q, r_positive, x, y)\n",
    "    E_negative = electric_field_due_to_point_charge(-q, r_negative, x, y)\n",
    "    # Campo eléctrico total\n",
    "    return E_positive + E_negative\n",
    "\n",
    "# Definir el rango de valores para x y y\n",
    "x_values = np.linspace(-2, 2, 100)\n",
    "y_values = np.linspace(-2, 2, 100)\n",
    "X, Y = np.meshgrid(x_values, y_values)\n",
    "\n",
    "# Calcular el campo eléctrico en cada punto de la malla\n",
    "Ex, Ey = electric_field_of_dipole(1, 1, X, Y)\n",
    "\n",
    "# Graficar las líneas de campo eléctrico\n",
    "plt.streamplot(X, Y, Ex, Ey, density=2, linewidth=1, arrowsize=1.5)\n",
    "plt.xlabel('x')\n",
    "plt.ylabel('y')\n",
    "plt.title('Líneas de campo eléctrico de un dipolo eléctrico')\n",
    "plt.gca().set_aspect('equal', adjustable='box')\n",
    "plt.show()\n"
   ]
  },
  {
   "cell_type": "markdown",
   "id": "47aa38a2",
   "metadata": {},
   "source": [
    "Lo primero que vamos a hacer es explicar parte por parte y ver si la cadena logica usada esta bien y arreglar los errores que encontramos en el camino. Lo primero que notamos es que usa los paquetes matplotlib y numpy, lo cual suele ser lo mas comun para este tipo de trabajos.\n",
    "\n",
    "Seguido de esto define dos funciones la cual en teoria deberia servir para calcular el campo electrico de una particula puntual y la siguiente funcion nos permite calcular el campo electrico del dipolo. Entonces lo primero que vamos a ver es si estas funciones compilan y despues si funcionan."
   ]
  },
  {
   "cell_type": "code",
   "execution_count": 49,
   "id": "b7c14eb1",
   "metadata": {},
   "outputs": [
    {
     "name": "stdout",
     "output_type": "stream",
     "text": [
      "[-2.24688795e+10  0.00000000e+00]\n"
     ]
    }
   ],
   "source": [
    "def electric_field_due_to_point_charge(q, r0, x, y):\n",
    "    \"\"\"Calcula el campo eléctrico en un punto (x, y) debido a una carga puntual.\"\"\"\n",
    "    k = 8.9875517923 * 10**9  # Constante de Coulomb en Nm^2/C^2\n",
    "    r = np.sqrt((x - r0[0])**2 + (y - r0[1])**2)\n",
    "    # Evitar la singularidad en r=0\n",
    "    if r < 1e-10:\n",
    "        return np.array([0.0, 0.0])\n",
    "    else:\n",
    "        return k * q * (np.array([x, y]) - np.array(r0)) / r**3\n",
    "    \n",
    "print(electric_field_due_to_point_charge(10,[2,0],0,0))"
   ]
  },
  {
   "cell_type": "markdown",
   "id": "ad3bbde1",
   "metadata": {},
   "source": [
    "el codigo compila exitosamente, ahora entedamos poco a poco que es lo que esta haciendo, la funcion tiene como objetivo calcular el campo en cada punto que nosotros le ingresemos.\n",
    "\n",
    "Para ello le ingresamos el valor de nuestra carga \"q\", la posicion de nuestra carga \"r0\" y las dos coordenadas del punto donde queremos saber el campo \"x\" e \"y\".\n",
    "\n",
    "luego de esto en nuestra funcion vamos a ingresar la constante de coulomb \"k\" la cual nos va a permintir realizar nuestros calculos mas adelante.\n",
    "\n",
    "Continuamos definiendo la distancia entre nuestro carga con respecto a la carga de prueba a traves de la variable \"r\", para ello dado que estamos trabajando con vectores debido a las dos cordenadas \"x\" e \"y\"(ojala proximamente \"z\") calculamos a traves del teorema de pitagoras.\n",
    "\n",
    "Adicionalmente debemos entender que debido a como la formula de campo electrico (1) se encuentra definida debemos tomar en cuenta que existe una singularidad en 0, por lo que para evitarlo tenemos un condicional para una distancia menor $1*10^{-10}$\n",
    "$$\n",
    "\\vec{E}=k*\\frac{q*(r_2-r_1)}{r^3} \\tag{1}\n",
    "$$\n",
    "\n",
    "Entonces en la teoria y la practica pareciera que esta funcionando el código."
   ]
  },
  {
   "cell_type": "code",
   "execution_count": 43,
   "id": "c70513a4",
   "metadata": {},
   "outputs": [],
   "source": [
    "def electric_field_of_dipole(q, d, x, y):\n",
    "    \"\"\"Calcula el campo eléctrico en un punto (x, y) debido a un dipolo eléctrico.\"\"\"\n",
    "    # Posición de las cargas\n",
    "    r_positive = np.array([d/2, 0])\n",
    "    r_negative = -r_positive\n",
    "    # Campo eléctrico debido a cada carga\n",
    "    E_positive = electric_field_due_to_point_charge(q, r_positive, x, y)\n",
    "    E_negative = electric_field_due_to_point_charge(-q, r_negative, x, y)\n",
    "    # Campo eléctrico total\n",
    "    return E_positive + E_negative\n"
   ]
  },
  {
   "cell_type": "markdown",
   "id": "c1f812c5",
   "metadata": {},
   "source": [
    "Ahora lo que tenemos aqui son "
   ]
  }
 ],
 "metadata": {
  "kernelspec": {
   "display_name": "Python 3 (ipykernel)",
   "language": "python",
   "name": "python3"
  },
  "language_info": {
   "codemirror_mode": {
    "name": "ipython",
    "version": 3
   },
   "file_extension": ".py",
   "mimetype": "text/x-python",
   "name": "python",
   "nbconvert_exporter": "python",
   "pygments_lexer": "ipython3",
   "version": "3.11.5"
  }
 },
 "nbformat": 4,
 "nbformat_minor": 5
}
